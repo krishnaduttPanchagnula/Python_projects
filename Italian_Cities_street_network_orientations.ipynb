{
  "nbformat": 4,
  "nbformat_minor": 0,
  "metadata": {
    "kernelspec": {
      "display_name": "Python (ox)",
      "language": "python",
      "name": "ox"
    },
    "language_info": {
      "codemirror_mode": {
        "name": "ipython",
        "version": 3
      },
      "file_extension": ".py",
      "mimetype": "text/x-python",
      "name": "python",
      "nbconvert_exporter": "python",
      "pygments_lexer": "ipython3",
      "version": "3.9.2"
    },
    "colab": {
      "name": "Italian_Cities_street_network_orientations.ipynb",
      "provenance": [],
      "collapsed_sections": [],
      "include_colab_link": true
    }
  },
  "cells": [
    {
      "cell_type": "markdown",
      "metadata": {
        "id": "view-in-github",
        "colab_type": "text"
      },
      "source": [
        "<a href=\"https://colab.research.google.com/github/krishnaduttPanchagnula/Python_projects/blob/main/Italian_Cities_street_network_orientations.ipynb\" target=\"_parent\"><img src=\"https://colab.research.google.com/assets/colab-badge.svg\" alt=\"Open In Colab\"/></a>"
      ]
    },
    {
      "cell_type": "markdown",
      "metadata": {
        "id": "WAeUnKBwfjFO"
      },
      "source": [
        "# City street network orientations\n",
        "\n",
        "The present book demonstrates how to develop different wind rose maps for the cities .\n",
        "\n",
        "The first task is to install the packages which we would later call to perform different functions in the notebook.\n",
        "\n"
      ]
    },
    {
      "cell_type": "code",
      "metadata": {
        "id": "mFVMANqpfmat"
      },
      "source": [
        "!pip install matplotlib\n",
        "!pip install numpy\n",
        "!pip install osmnx"
      ],
      "execution_count": null,
      "outputs": []
    },
    {
      "cell_type": "markdown",
      "metadata": {
        "id": "2xaENqJmn5pZ"
      },
      "source": [
        "## Import the necessary packages\n",
        "To perform the network analysis of different streets we import following packages :\n",
        "\n",
        "osmx - Python package that lets you download geospatial data from OpenStreetMap and model, project, visualize, and analyze real-world street networks and any other geospatial geometries.\n",
        "\n",
        "numpy - NumPy to perform comprehensive mathematical functions.\n",
        " \n",
        "matplotlib - To visualize the data "
      ]
    },
    {
      "cell_type": "code",
      "metadata": {
        "id": "9cE2D1TFfjFU"
      },
      "source": [
        "import matplotlib.pyplot as plt\n",
        "import numpy as np\n",
        "import osmnx as ox\n",
        "\n",
        "%matplotlib inline\n",
        "ox.config(log_console=True)\n",
        "weight_by_length = False\n",
        "\n",
        "ox.__version__"
      ],
      "execution_count": null,
      "outputs": []
    },
    {
      "cell_type": "markdown",
      "metadata": {
        "id": "b5P_u5MYpN0Q"
      },
      "source": [
        "## Defining the Areas of Interest\n",
        "Here we create a variable which can be string or structured dict, or a list of such strings/dicts , which we can later call in Open Street map to query and geocode."
      ]
    },
    {
      "cell_type": "code",
      "metadata": {
        "id": "xd16nNmBfjFW"
      },
      "source": [
        "# define the study sites as label : query\n",
        "places = {\n",
        "       # 'Boston'        : 'Boston, MA, USA',\n",
        "    \n",
        "    \"Milano\": \"Milan, Lombardy, Italy\",\n",
        "    \"Bologna\" : \"Bologna, Emilia-Romagna, Italy\",\n",
        "    \"Verona\" : \"Verona, Veneto, Italy\",\n",
        "    \"Venice\": \"Venice, Venezia, Veneto, Italy\",\n",
        "    \"Naples\": \"Naples, Napoli, Campania, Italy\",\n",
        "    \"Rome\": \"Rome, Roma Capitale, Lazio, Italy\"\n",
        "}"
      ],
      "execution_count": null,
      "outputs": []
    },
    {
      "cell_type": "code",
      "metadata": {
        "id": "9I5ccuPTfjFY"
      },
      "source": [
        "# verify OSMnx geocodes each query to what you expect (i.e., a [multi]polygon geometry)\n",
        "gdf = ox.geocode_to_gdf(list(places.values()))\n",
        "gdf"
      ],
      "execution_count": null,
      "outputs": []
    },
    {
      "cell_type": "markdown",
      "metadata": {
        "id": "TLPGJL-aqQwo"
      },
      "source": [
        "## Converting these street data into length "
      ]
    },
    {
      "cell_type": "code",
      "metadata": {
        "id": "twsk81vWfjFY"
      },
      "source": [
        "# create figure and axes\n",
        "n = len(places)\n",
        "ncols = int(np.ceil(np.sqrt(n)))\n",
        "nrows = int(np.ceil(n / ncols))\n",
        "figsize = (ncols * 5, nrows * 5)\n",
        "fig, axes = plt.subplots(nrows, ncols, figsize=figsize, subplot_kw={\"projection\": \"polar\"})\n",
        "\n",
        "# plot each city's polar histogram\n",
        "for ax, place in zip(axes.flat, sorted(places.keys())):\n",
        "    print(ox.utils.ts(), place)\n",
        "\n",
        "    # get undirected graphs with edge bearing attributes\n",
        "    G = ox.graph_from_place(place, network_type=\"drive\")\n",
        "    Gu = ox.add_edge_bearings(ox.get_undirected(G))\n",
        "    fig, ax = ox.bearing.plot_orientation(Gu, ax=ax, title=place, area=True)\n",
        "\n",
        "# add figure title and save image\n",
        "suptitle_font = {\n",
        "    \"family\": \"DejaVu Sans\",\n",
        "    \"fontsize\": 60,\n",
        "    \"fontweight\": \"normal\",\n",
        "    \"y\": 1,\n",
        "}\n",
        "fig.suptitle(\"City Street Network Orientation\", **suptitle_font)\n",
        "fig.tight_layout()\n",
        "fig.subplots_adjust(hspace=0.35)\n"
      ],
      "execution_count": null,
      "outputs": []
    },
    {
      "cell_type": "markdown",
      "metadata": {
        "id": "nxXtgmSffjFb"
      },
      "source": [
        "You can also calculate the orientation entropy of a spatial graph with the `ox.bearing.orientation_entropy` function."
      ]
    },
    {
      "cell_type": "code",
      "metadata": {
        "id": "xj_3nnDxfjFc"
      },
      "source": [
        "fig.savefig(\"  # insert the location you want to save the above image\", facecolor=\"w\", dpi=100, bbox_inches=\"tight\")\n",
        "plt.close()"
      ],
      "execution_count": null,
      "outputs": []
    }
  ]
}